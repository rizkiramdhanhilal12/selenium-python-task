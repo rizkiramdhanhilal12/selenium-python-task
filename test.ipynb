{
 "cells": [
  {
   "cell_type": "code",
   "execution_count": 4,
   "metadata": {},
   "outputs": [
    {
     "name": "stdout",
     "output_type": "stream",
     "text": [
      "Berhasil membuka halaman\n",
      "Berhasil menandai item pertama\n",
      "Berhasil menambahkan item baru ke daftar\n",
      "Berhasil memvalidasi item baru\n",
      "Test selesai\n"
     ]
    }
   ],
   "source": [
    "from selenium import webdriver\n",
    "from selenium.webdriver.common.by import By\n",
    "from selenium.webdriver.common.keys import Keys\n",
    "from selenium.webdriver.chrome.options import Options\n",
    "\n",
    "# Konfigurasi kredensial LambdaTest\n",
    "LAMBDA_TEST_USERNAME = \"207006005\"  # Ganti dengan username LambdaTest Anda\n",
    "LAMBDA_TEST_ACCESS_KEY = \"fcnFrfn6f9FhThtyWKp4bOP8CVDw3uiNz3GrkzngDNQneiM8p0\"  # Ganti dengan access key LambdaTest Anda\n",
    "\n",
    "# Konfigurasi untuk LambdaTest\n",
    "lt_options = {\n",
    "    \"browserName\": \"Chrome\",\n",
    "    \"browserVersion\": \"latest\",\n",
    "    \"platformName\": \"Windows 10\",\n",
    "    \"selenium_version\": \"4.0.0\",  # Versi Selenium yang sesuai\n",
    "    \"username\": LAMBDA_TEST_USERNAME,\n",
    "    \"accessKey\": LAMBDA_TEST_ACCESS_KEY,\n",
    "    \"build\": \"Selenium Python 101\",\n",
    "    \"name\": \"Sample Test\",\n",
    "}\n",
    "\n",
    "# Membuat instance remote webdriver menggunakan ChromeOptions\n",
    "chrome_options = Options()\n",
    "chrome_options.set_capability(\"LT:Options\", lt_options)\n",
    "\n",
    "# Membuat remote WebDriver\n",
    "driver = webdriver.Remote(\n",
    "    command_executor=\"https://hub.lambdatest.com/wd/hub\",\n",
    "    options=chrome_options\n",
    ")\n",
    "\n",
    "try:\n",
    "    # Step 1: Membuka URL\n",
    "    driver.get(\"https://lambdatest.github.io/sample-todo-app/\")\n",
    "    print(\"Berhasil membuka halaman\")\n",
    "\n",
    "    # Step 2: Menandai item pada daftar\n",
    "    checkbox = driver.find_element(By.NAME, \"li1\")\n",
    "    checkbox.click()\n",
    "    print(\"Berhasil menandai item pertama\")\n",
    "\n",
    "    # Step 3: Menambahkan item baru ke daftar\n",
    "    input_box = driver.find_element(By.ID, \"sampletodotext\")\n",
    "    input_box.send_keys(\"Belajar Selenium dengan Python\")\n",
    "    input_box.send_keys(Keys.RETURN)\n",
    "    print(\"Berhasil menambahkan item baru ke daftar\")\n",
    "\n",
    "    # Step 4: Validasi apakah item ditambahkan\n",
    "    new_item = driver.find_element(By.XPATH, \"//span[text()='Belajar Selenium dengan Python']\")\n",
    "    assert new_item.is_displayed(), \"Item baru tidak ditemukan!\"\n",
    "    print(\"Berhasil memvalidasi item baru\")\n",
    "\n",
    "finally:\n",
    "    # Menutup browser\n",
    "    driver.quit()\n",
    "    print(\"Test selesai\")\n"
   ]
  }
 ],
 "metadata": {
  "kernelspec": {
   "display_name": "Python 3",
   "language": "python",
   "name": "python3"
  },
  "language_info": {
   "codemirror_mode": {
    "name": "ipython",
    "version": 3
   },
   "file_extension": ".py",
   "mimetype": "text/x-python",
   "name": "python",
   "nbconvert_exporter": "python",
   "pygments_lexer": "ipython3",
   "version": "3.9.6"
  }
 },
 "nbformat": 4,
 "nbformat_minor": 2
}
